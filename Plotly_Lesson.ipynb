{
 "cells": [
  {
   "cell_type": "markdown",
   "id": "c34adcf0",
   "metadata": {},
   "source": [
    "# 📊 Interactive Data Visualization with Plotly\n",
    "---"
   ]
  },
  {
   "cell_type": "markdown",
   "id": "68daaa59",
   "metadata": {},
   "source": [
    "## 🔹 Lesson Overview\n",
    "\n",
    "Plotly is a Python graphing library that makes interactive, publication-quality graphs online. It supports dozens of chart types, including line charts, bar charts, scatter plots, 3D plots, maps, and more.\n",
    "\n",
    "This lesson covers:\n",
    "1. Installing and importing Plotly\n",
    "2. Creating basic interactive plots\n",
    "3. Customizing plots\n",
    "4. Using Plotly Express vs. Graph Objects\n",
    "5. Creating subplots\n",
    "6. Plotting from a DataFrame\n"
   ]
  },
  {
   "cell_type": "markdown",
   "id": "e918612d",
   "metadata": {},
   "source": [
    "## Installing and Importing Plotly"
   ]
  },
  {
   "cell_type": "code",
   "execution_count": null,
   "id": "d05f6a69",
   "metadata": {},
   "outputs": [],
   "source": [
    "# Install Plotly (uncomment if needed)\n",
    "# !pip install plotly\n",
    "\n",
    "import plotly.express as px\n",
    "import plotly.graph_objects as go\n",
    "import pandas as pd"
   ]
  },
  {
   "cell_type": "markdown",
   "id": "325d75ab",
   "metadata": {},
   "source": [
    "### Explanation:\n",
    "- **Plotly Express (`px`)**: High-level interface for quick and easy plots.\n",
    "- **Plotly Graph Objects (`go`)**: More flexible, low-level API for detailed control.\n",
    "- **Pandas (`pd`)**: Used to manage data in tabular form for plotting.\n"
   ]
  },
  {
   "cell_type": "markdown",
   "id": "03b7e1f6",
   "metadata": {},
   "source": [
    "## Creating a Basic Scatter Plot (Plotly Express)"
   ]
  },
  {
   "cell_type": "code",
   "execution_count": null,
   "id": "c5908d5d",
   "metadata": {},
   "outputs": [],
   "source": [
    "df = px.data.iris()\n",
    "\n",
    "fig = px.scatter(df, x=\"sepal_width\", y=\"sepal_length\", color=\"species\", size=\"petal_length\",\n",
    "                 title=\"Iris Dataset Scatter Plot\")\n",
    "fig.show()"
   ]
  },
  {
   "cell_type": "markdown",
   "id": "1a322971",
   "metadata": {},
   "source": [
    "### Explanation:\n",
    "- **`px.data.iris()`**: Built-in dataset with features of Iris flowers.\n",
    "- **`x`, `y`**: Axes values.\n",
    "- **`color`**: Groups points by species.\n",
    "- **`size`**: Sizes points based on `petal_length`.\n",
    "- **`fig.show()`**: Renders the interactive chart.\n"
   ]
  },
  {
   "cell_type": "markdown",
   "id": "52533f60",
   "metadata": {},
   "source": [
    "## Customizing with Graph Objects"
   ]
  },
  {
   "cell_type": "code",
   "execution_count": null,
   "id": "d5217ee2",
   "metadata": {},
   "outputs": [],
   "source": [
    "fig = go.Figure()\n",
    "\n",
    "fig.add_trace(go.Scatter(\n",
    "    x=[1, 2, 3, 4],\n",
    "    y=[10, 11, 12, 13],\n",
    "    mode='markers+lines',\n",
    "    name='Line+Marker',\n",
    "    marker=dict(size=10, color='royalblue')\n",
    "))\n",
    "\n",
    "fig.update_layout(\n",
    "    title=\"Custom Scatter Plot\",\n",
    "    xaxis_title=\"X Axis\",\n",
    "    yaxis_title=\"Y Axis\"\n",
    ")\n",
    "\n",
    "fig.show()"
   ]
  },
  {
   "cell_type": "markdown",
   "id": "f33fd40a",
   "metadata": {},
   "source": [
    "### Explanation:\n",
    "- **`go.Figure()`**: Initializes a new figure.\n",
    "- **`add_trace()`**: Adds a plot layer, here using `Scatter`.\n",
    "- **`mode='markers+lines'`**: Combines line and marker styles.\n",
    "- **`marker=dict(...)`**: Controls marker aesthetics.\n",
    "- **`update_layout()`**: Modifies title and axis labels.\n"
   ]
  },
  {
   "cell_type": "markdown",
   "id": "0f4ff5ac",
   "metadata": {},
   "source": [
    "## Bar Plot Example (Plotly Express)"
   ]
  },
  {
   "cell_type": "code",
   "execution_count": null,
   "id": "9d3eadc2",
   "metadata": {},
   "outputs": [],
   "source": [
    "data = {'Fruits': ['Apples', 'Oranges', 'Bananas'], 'Quantity': [10, 15, 7]}\n",
    "df = pd.DataFrame(data)\n",
    "\n",
    "fig = px.bar(df, x='Fruits', y='Quantity', title='Fruit Sales')\n",
    "fig.show()"
   ]
  },
  {
   "cell_type": "markdown",
   "id": "91b21ce9",
   "metadata": {},
   "source": [
    "### Explanation:\n",
    "- **Bar chart**: Useful for categorical comparisons.\n",
    "- **DataFrame (`df`)**: Structured tabular data.\n",
    "- **`px.bar()`**: Quickly creates a bar plot.\n"
   ]
  },
  {
   "cell_type": "markdown",
   "id": "aa87158a",
   "metadata": {},
   "source": [
    "## Subplots with Graph Objects"
   ]
  },
  {
   "cell_type": "code",
   "execution_count": null,
   "id": "1db128e1",
   "metadata": {},
   "outputs": [],
   "source": [
    "from plotly.subplots import make_subplots\n",
    "\n",
    "fig = make_subplots(rows=1, cols=2, subplot_titles=(\"Line Chart\", \"Bar Chart\"))\n",
    "\n",
    "fig.add_trace(go.Scatter(y=[1, 3, 2, 4], mode='lines', name=\"Line\"), row=1, col=1)\n",
    "fig.add_trace(go.Bar(y=[1, 3, 2, 4], name=\"Bar\"), row=1, col=2)\n",
    "\n",
    "fig.update_layout(title_text=\"Multiple Subplots\")\n",
    "fig.show()"
   ]
  },
  {
   "cell_type": "markdown",
   "id": "c32c06c5",
   "metadata": {},
   "source": [
    "### Explanation:\n",
    "- **`make_subplots()`**: Allows combining multiple plots in one figure.\n",
    "- **`subplot_titles`**: Titles for each subplot.\n",
    "- **`row`, `col`**: Specify the grid location for each plot.\n",
    "- **Combining**: Useful for dashboards or comparing visualizations.\n"
   ]
  },
  {
   "cell_type": "markdown",
   "id": "d3a30fb7",
   "metadata": {},
   "source": [
    "## Plotting from Real-World DataFrame (Tips Dataset)"
   ]
  },
  {
   "cell_type": "code",
   "execution_count": null,
   "id": "f826466f",
   "metadata": {},
   "outputs": [],
   "source": [
    "df = px.data.tips()\n",
    "\n",
    "fig = px.box(df, x=\"day\", y=\"total_bill\", color=\"sex\", title=\"Total Bill Distribution by Day and Gender\")\n",
    "fig.show()"
   ]
  },
  {
   "cell_type": "markdown",
   "id": "0a0cd77b",
   "metadata": {},
   "source": [
    "### Explanation:\n",
    "- **Tips dataset**: Contains info on restaurant bills, tips, and customer attributes.\n",
    "- **Box plot**: Shows distributions, medians, and outliers.\n",
    "- **`color=\"sex\"`**: Adds category distinction by gender.\n",
    "- **`x=\"day\"`**: Shows variations across days.\n"
   ]
  },
  {
   "cell_type": "markdown",
   "id": "38a7977f",
   "metadata": {},
   "source": [
    "## Summary\n",
    "\n",
    "| Topic                  | Method                  | Library            |\n",
    "|------------------------|-------------------------|---------------------|\n",
    "| Quick charts           | `px.scatter`, `px.bar`  | Plotly Express      |\n",
    "| Full customization     | `go.Scatter`, `go.Bar`  | Graph Objects       |\n",
    "| Multiple charts layout | `make_subplots`         | Plotly Subplots     |\n",
    "| Data handling          | `pandas.DataFrame`      | Pandas              |\n"
   ]
  }
 ],
 "metadata": {
  "kernelspec": {
   "display_name": ".venv",
   "language": "python",
   "name": "python3"
  },
  "language_info": {
   "codemirror_mode": {
    "name": "ipython",
    "version": 3
   },
   "file_extension": ".py",
   "mimetype": "text/x-python",
   "name": "python",
   "nbconvert_exporter": "python",
   "pygments_lexer": "ipython3",
   "version": "3.13.7"
  }
 },
 "nbformat": 4,
 "nbformat_minor": 5
}
